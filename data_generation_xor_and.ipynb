{
 "cells": [
  {
   "cell_type": "markdown",
   "id": "elementary-influence",
   "metadata": {},
   "source": [
    "### Data Generation: AND and XOR Problem\n",
    "\n",
    "For our task with a NN/MLP with SGD we want some toy datasets with two variables. We can utilize the code from the perceptron to generate a noisy AND and XOR dataset which we serialize so we can import it easily later using numpy. We also add a random rotation and shift to our data using an affine transform to make the data more realistic."
   ]
  },
  {
   "cell_type": "code",
   "execution_count": 1,
   "id": "developing-nightlife",
   "metadata": {},
   "outputs": [],
   "source": [
    "%matplotlib inline"
   ]
  },
  {
   "cell_type": "code",
   "execution_count": 2,
   "id": "timely-things",
   "metadata": {},
   "outputs": [],
   "source": [
    "import numpy as np\n",
    "import matplotlib.pyplot as plt\n",
    "import os"
   ]
  },
  {
   "cell_type": "code",
   "execution_count": 3,
   "id": "expired-spirit",
   "metadata": {},
   "outputs": [],
   "source": [
    "np.random.seed(42)"
   ]
  },
  {
   "cell_type": "code",
   "execution_count": 4,
   "id": "future-graham",
   "metadata": {},
   "outputs": [],
   "source": [
    "n = 10000\n",
    "\n",
    "data_and = (np.random.rand(n, 2) > 0.25)\n",
    "data_xor = (np.random.rand(n, 2) > 0.5)\n",
    "t_and = (data_and[:, 0] & data_and[:, 1]).astype(int)\n",
    "t_xor = (data_xor[:, 0] ^ data_xor[:, 1]).astype(int)\n",
    "data_and = data_and.astype(float)\n",
    "data_xor = data_xor.astype(float)\n",
    "data_and += np.random.randn(n, 2) * 0.35\n",
    "data_xor += np.random.randn(n, 2) * 0.35\n",
    "\n",
    "A = np.array([\n",
    "    [0.7, 0.4],\n",
    "    [-0.3, 1.5]\n",
    "])\n",
    "\n",
    "b = np.array([-0.7, -0.4])\n",
    "\n",
    "data_and = data_and @ A + b\n",
    "data_xor = data_xor @ A + b"
   ]
  },
  {
   "cell_type": "code",
   "execution_count": 5,
   "id": "assigned-testimony",
   "metadata": {},
   "outputs": [],
   "source": [
    "np.savetxt('./data/data_and.csv', data_and, delimiter=';')\n",
    "np.savetxt('./data/target_and.csv', t_and, delimiter=';')\n",
    "np.savetxt('./data/data_xor.csv', data_xor, delimiter=';')\n",
    "np.savetxt('./data/target_xor.csv', t_xor, delimiter=';')"
   ]
  }
 ],
 "metadata": {
  "kernelspec": {
   "display_name": "Python 3",
   "language": "python",
   "name": "python3"
  },
  "language_info": {
   "codemirror_mode": {
    "name": "ipython",
    "version": 3
   },
   "file_extension": ".py",
   "mimetype": "text/x-python",
   "name": "python",
   "nbconvert_exporter": "python",
   "pygments_lexer": "ipython3",
   "version": "3.7.9"
  }
 },
 "nbformat": 4,
 "nbformat_minor": 5
}
